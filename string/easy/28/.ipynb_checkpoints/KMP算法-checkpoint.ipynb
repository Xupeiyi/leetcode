{
 "cells": [
  {
   "cell_type": "markdown",
   "metadata": {},
   "source": [
    "“最长前缀”的概念是理解KMP算法的关键。称模式的一个前缀为最长前缀，如果这个前缀是所有$\\color{red}{能与模式的某后缀相匹配的前缀}$中长度最长的那个。比如模式P = ABABA的最长前缀为前三个字母组成的\"ABA\"(P[0:3]),它可以和最后三个字母组成的后缀\"ABA\"P[2:5]相匹配。\n",
    "\n",
    "这样，当一个模式从某个字符开始不能与字符串相匹配时，可以直接查看最长前缀之后的那个字符是否可以继续进行匹配。这样可以将模式向右移动数步，而不是像暴力算法那样每次移动一步。"
   ]
  },
  {
   "cell_type": "code",
   "execution_count": 1,
   "metadata": {},
   "outputs": [],
   "source": [
    "def compute_prefix_function(pattern):\n",
    "    prefix_lengths = [-1] * len(pattern) # 对pattern中的第i个元素，prefix_length[i]记录pattern[:i + 1]的最长字串的长度\n",
    "    \n",
    "    k = -1 # 指向最长前缀最后一个字符的指针\n",
    "    for q in range(1, len(pattern)): # q指向当前检测的字符\n",
    "        while k > -1 and pattern[k + 1] != pattern[q]:\n",
    "            k = prefix_lengths[q] # 寻找最长前缀的最长前缀\n",
    "        if pattern[k + 1] == pattern[q]:\n",
    "            k += 1\n",
    "        prefix_lengths[q] = k\n",
    "    \n",
    "    return prefix_lengths"
   ]
  },
  {
   "cell_type": "code",
   "execution_count": 2,
   "metadata": {},
   "outputs": [
    {
     "name": "stdout",
     "output_type": "stream",
     "text": [
      "pattern:a    prefix:\n",
      "pattern:ab    prefix:\n",
      "pattern:aba    prefix:a\n",
      "pattern:abab    prefix:ab\n",
      "pattern:ababa    prefix:aba\n",
      "pattern:ababab    prefix:abab\n",
      "pattern:abababc    prefix:\n",
      "pattern:abababca    prefix:a\n",
      "pattern:abababcab    prefix:ab\n"
     ]
    }
   ],
   "source": [
    "pattern = 'abababcab'\n",
    "prefix_lengths = compute_prefix_function(pattern)\n",
    "for i, k in enumerate(prefix_lengths):\n",
    "    print(f\"pattern:{pattern[:i+1]}    prefix:{pattern[:k+1]}\")"
   ]
  },
  {
   "cell_type": "code",
   "execution_count": 14,
   "metadata": {},
   "outputs": [],
   "source": [
    "def kmp_matcher(text, pattern):\n",
    "    len_t = len(text)\n",
    "    len_p = len(pattern)\n",
    "    prefix_lengths = compute_prefix_function(pattern)\n",
    "    \n",
    "    q = -1\n",
    "    for i in range(0, len_t):\n",
    "        while(q > -1 and pattern[q + 1] != text[i]):\n",
    "            q = prefix_lengths[q]\n",
    "        if pattern[q + 1] == text[i]:\n",
    "            q += 1\n",
    "        if q == (len_p - 1):\n",
    "            print(\"pattern occurs with shift %d\" %(i + 1 - len_p))\n",
    "            q = prefix_lengths[q]"
   ]
  },
  {
   "cell_type": "code",
   "execution_count": 16,
   "metadata": {},
   "outputs": [
    {
     "name": "stdout",
     "output_type": "stream",
     "text": [
      "pattern occurs with shift 2\n",
      "pattern occurs with shift 5\n"
     ]
    }
   ],
   "source": [
    "kmp_matcher(\"helloll\", \"ll\")"
   ]
  }
 ],
 "metadata": {
  "kernelspec": {
   "display_name": "Python 3",
   "language": "python",
   "name": "python3"
  },
  "language_info": {
   "codemirror_mode": {
    "name": "ipython",
    "version": 3
   },
   "file_extension": ".py",
   "mimetype": "text/x-python",
   "name": "python",
   "nbconvert_exporter": "python",
   "pygments_lexer": "ipython3",
   "version": "3.6.3"
  }
 },
 "nbformat": 4,
 "nbformat_minor": 2
}
